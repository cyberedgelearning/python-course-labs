{
 "cells": [
  {
   "cell_type": "code",
   "source": ["print(\"Welcome to CyberEdge Python Labs!\")"],
   "metadata": {},
   "outputs": []
  }
 ],
 "metadata": {},
 "nbformat": 4,
 "nbformat_minor": 2
}
