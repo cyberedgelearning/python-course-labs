{
 "cells": [
  {
   "cell_type": "markdown",
   "metadata": {},
   "source": [
    "# 🐍 Welcome to Python Basics 101\n",
    "Welcome to your first CyberEdge Python lab! In this notebook, you'll explore the building blocks of Python programming. Run each cell, complete the exercises, and save your work to submit in Moodle."
   ]
  },
  {
   "cell_type": "markdown",
   "metadata": {},
   "source": [
    "## 🔡 Section 1: Syntax & Structure"
   ]
  },
  {
   "cell_type": "code",
   "metadata": {},
   "source": [
    "# Variables and data types\n",
    "name = \"Tyler\"\n",
    "age = 35\n",
    "height = 5.9\n",
    "is_student = True\n",
    "\n",
    "# Operators\n",
    "print(age + 5)\n",
    "print(height * 2)\n",
    "print(is_student and False)"
   ]
  },
  {
   "cell_type": "markdown",
   "metadata": {},
   "source": [
    "**🧩 Exercise:** Create three variables: a string, an integer, and a boolean. Print them using f-strings."
   ]
  },
  {
   "cell_type": "markdown",
   "metadata": {},
   "source": [
    "## 🔁 Section 2: Control Flow"
   ]
  },
  {
   "cell_type": "code",
   "metadata": {},
   "source": [
    "# If statements\n",
    "score = 85\n",
    "if score >= 90:\n",
    "    print(\"A\")\n",
    "elif score >= 80:\n",
    "    print(\"B\")\n",
    "else:\n",
    "    print(\"C\")\n",
    "\n",
    "# Loops\n",
    "for i in range(5):\n",
    "    print(f\"Loop {i}\")"
   ]
  },
  {
   "cell_type": "markdown",
   "metadata": {},
   "source": [
    "**🧩 Exercise:** Write a loop that prints numbers 1–10 and labels each as even or odd."
   ]
  },
  {
   "cell_type": "markdown",
   "metadata": {},
   "source": [
    "## 🧮 Section 3: Functions"
   ]
  },
  {
   "cell_type": "code",
   "metadata": {},
   "source": [
    "def greet(name):\n",
    "    return f\"Hello, {name}!\"\n",
    "\n",
    "print(greet(\"Tyler\"))"
   ]
  },
  {
   "cell_type": "markdown",
   "metadata": {},
   "source": [
    "**🧩 Exercise:** Write a function that takes two numbers and returns their average."
   ]
  },
  {
   "cell_type": "markdown",
   "metadata": {},
   "source": [
    "## 📦 Section 4: Data Structures"
   ]
  },
  {
   "cell_type": "code",
   "metadata": {},
   "source": [
    "# Lists\n",
    "fruits = [\"apple\", \"banana\", \"cherry\"]\n",
    "\n",
    "# Dictionaries\n",
    "student = {\"name\": \"Tyler\", \"grade\": \"A\"}\n",
    "\n",
    "# Tuples\n",
    "coords = (10, 20)\n",
    "\n",
    "# Sets\n",
    "unique_numbers = {1, 2, 3, 2}"
   ]
  },
  {
   "cell_type": "markdown",
   "metadata": {},
   "source": [
    "**🧩 Exercise:** Create a dictionary for a book with title, author, and year. Print each value."
   ]
  },
  {
   "cell_type": "markdown",
   "metadata": {},
   "source": [
    "## 📁 Section 5: File Handling"
   ]
  },
  {
   "cell_type": "code",
   "metadata": {},
   "source": [
    "# Writing to a file\n",
    "with open(\"hello.txt\", \"w\") as f:\n",
    "    f.write(\"Hello, CyberEdge!\")\n",
    "\n",
    "# Reading from a file\n",
    "with open(\"hello.txt\", \"r\") as f:\n",
    "    content = f.read()\n",
    "    print(content)"
   ]
  },
  {
   "cell_type": "markdown",
   "metadata": {},
   "source": [
    "**🧩 Exercise:** Write a short paragraph to a file called `bio.txt`, then read it back."
   ]
  },
  {
   "cell_type": "markdown",
   "metadata": {},
   "source": [
    "## 🛠️ Section 6: Error Handling"
   ]
  },
  {
   "cell_type": "code",
   "metadata": {},
   "source": [
    "try:\n",
    "    result = 10 / 0\n",
    "except ZeroDivisionError:\n",
    "    print(\"You can't divide by zero!\")"
   ]
  },
  {
   "cell_type": "markdown",
   "metadata": {},
   "source": [
    "**🧩 Exercise:** Write a try/except block that catches a `ValueError` when converting input to an integer."
   ]
  },
  {
   "cell_type": "markdown",
   "metadata": {},
   "source": [
    "## ✅ Final Step: Save & Submit\n",
    "Download your notebook using *File → Download as → Notebook (.ipynb)* and upload it to Moodle for grading."
   ]
  }
 ],
 "metadata": {
  "kernelspec": {
   "display_name": "Python 3",
   "language": "python",
   "name": "python3"
  },
  "language_info": {
   "name": "python",
   "version": "3.10"
  }
 },
 "nbformat": 4,
 "nbformat_minor": 2
}
