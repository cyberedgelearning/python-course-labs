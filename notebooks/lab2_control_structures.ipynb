{
 "cells": [
  {
   "cell_type": "markdown",
   "metadata": {},
   "source": [
    "# 🧪 Lab 2: Control Structures & Data Logic\n",
    "Welcome back! In this lab, you'll explore how Python makes decisions and handles data. You'll write conditional logic, build functions, and manipulate lists and dictionaries."
   ]
  },
  {
   "cell_type": "markdown",
   "metadata": {},
   "source": [
    "## 🔁 Section 1: Conditional Logic"
   ]
  },
  {
   "cell_type": "code",
   "metadata": {},
   "source": [
    "# Basic if/else\n",
    "temperature = 72\n",
    "if temperature > 75:\n",
    "    print(\"It's warm!\")\n",
    "else:\n",
    "    print(\"It's cool.\")"
   ]
  },
  {
   "cell_type": "markdown",
   "metadata": {},
   "source": [
    "**🧩 Exercise:** Write a program that checks if a number is positive, negative, or zero."
   ]
  },
  {
   "cell_type": "markdown",
   "metadata": {},
   "source": [
    "## 🔄 Section 2: Loops & Iteration"
   ]
  },
  {
   "cell_type": "code",
   "metadata": {},
   "source": [
    "# Looping through a list\n",
    "colors = [\"red\", \"green\", \"blue\"]\n",
    "for color in colors:\n",
    "    print(f\"I like {color}\")"
   ]
  },
  {
   "cell_type": "markdown",
   "metadata": {},
   "source": [
    "**🧩 Exercise:** Write a loop that prints numbers 1–20 and labels each as divisible by 3 or not."
   ]
  },
  {
   "cell_type": "markdown",
   "metadata": {},
   "source": [
    "## 🧮 Section 3: Functions with Logic"
   ]
  },
  {
   "cell_type": "code",
   "metadata": {},
   "source": [
    "def is_even(n):\n",
    "    return n % 2 == 0\n",
    "\n",
    "print(is_even(4))  # True"
   ]
  },
  {
   "cell_type": "markdown",
   "metadata": {},
   "source": [
    "**🧩 Exercise:** Write a function `grade_category(score)` that returns \"A\", \"B\", \"C\", or \"F\" based on the score."
   ]
  },
  {
   "cell_type": "markdown",
   "metadata": {},
   "source": [
    "## 📦 Section 4: Lists & Filtering"
   ]
  },
  {
   "cell_type": "code",
   "metadata": {},
   "source": [
    "# Filtering with list comprehension\n",
    "numbers = [1, 2, 3, 4, 5, 6]\n",
    "evens = [n for n in numbers if n % 2 == 0]\n",
    "print(evens)"
   ]
  },
  {
   "cell_type": "markdown",
   "metadata": {},
   "source": [
    "**🧩 Exercise:** Create a list of names and use a loop or comprehension to filter names longer than 5 characters."
   ]
  },
  {
   "cell_type": "markdown",
   "metadata": {},
   "source": [
    "## 🧠 Section 5: Dictionaries & Lookup"
   ]
  },
  {
   "cell_type": "code",
   "metadata": {},
   "source": [
    "# Dictionary lookup\n",
    "grades = {\"Alice\": 90, \"Bob\": 75, \"Charlie\": 82}\n",
    "print(grades[\"Bob\"])"
   ]
  },
  {
   "cell_type": "markdown",
   "metadata": {},
   "source": [
    "**🧩 Exercise:** Write a function that takes a dictionary of names and scores, and returns the name of the highest scorer."
   ]
  },
  {
   "cell_type": "markdown",
   "metadata": {},
   "source": [
    "## 🛠️ Section 6: Nested Logic Challenge"
   ]
  },
  {
   "cell_type": "code",
   "metadata": {},
   "source": [
    "# Combining loops and conditionals\n",
    "students = [\n",
    "    {\"name\": \"Alice\", \"score\": 90},\n",
    "    {\"name\": \"Bob\", \"score\": 75},\n",
    "    {\"name\": \"Charlie\", \"score\": 82}\n",
    "]\n",
    "\n",
    "for student in students:\n",
    "    if student[\"score\"] >= 85:\n",
    "        print(f\"{student['name']} passed with distinction.\")\n",
    "    else:\n",
    "        print(f\"{student['name']} passed.\")"
   ]
  },
  {
   "cell_type": "markdown",
   "metadata": {},
   "source": [
    "**🧩 Exercise:** Modify the above to include \"failed\" if score < 70."
   ]
  },
  {
   "cell_type": "markdown",
   "metadata": {},
   "source": [
    "## ✅ Final Step: Save & Submit\n",
    "Download your notebook using *File → Download as → Notebook (.ipynb)* and upload it to Moodle for grading."
   ]
  }
 ],
 "metadata": {
  "kernelspec": {
   "display_name": "Python 3",
   "language": "python",
   "name": "python3"
  },
  "language_info": {
   "name": "python",
   "version": "3.10"
  }
 },
 "nbformat": 4,
 "nbformat_minor": 5
}
