{
 "cells": [
  {
   "cell_type": "markdown",
   "metadata": {},
   "source": [
    "# 🧪 Lab 4: External Libraries\n",
    "In this lab, you'll explore how to use Python's built-in libraries to extend functionality. You'll work with `math`, `random`, and `datetime` to solve practical problems."
   ]
  },
  {
   "cell_type": "markdown",
   "metadata": {},
   "source": [
    "## ➕ Section 1: Math Library"
   ]
  },
  {
   "cell_type": "code",
   "metadata": {},
   "source": [
    "import math\n",
    "\n",
    "# Square root and pi\n",
    "print(math.sqrt(49))\n",
    "print(math.pi)"
   ]
  },
  {
   "cell_type": "markdown",
   "metadata": {},
   "source": [
    "**🧩 Exercise:** Use `math.pow()` to calculate 3 to the power of 4. Then use `math.ceil()` and `math.floor()` on a decimal of your choice."
   ]
  },
  {
   "cell_type": "markdown",
   "metadata": {},
   "source": [
    "## 🎲 Section 2: Random Library"
   ]
  },
  {
   "cell_type": "code",
   "metadata": {},
   "source": [
    "import random\n",
    "\n",
    "# Random number between 1 and 10\n",
    "print(random.randint(1, 10))\n",
    "\n",
    "# Random choice from a list\n",
    "colors = [\"red\", \"green\", \"blue\"]\n",
    "print(random.choice(colors))"
   ]
  },
  {
   "cell_type": "markdown",
   "metadata": {},
   "source": [
    "**🧩 Exercise:** Create a list of 5 student names and randomly select one to answer a question."
   ]
  },
  {
   "cell_type": "markdown",
   "metadata": {},
   "source": [
    "## 📅 Section 3: Datetime Library"
   ]
  },
  {
   "cell_type": "code",
   "metadata": {},
   "source": [
    "from datetime import datetime\n",
    "\n",
    "# Current date and time\n",
    "now = datetime.now()\n",
    "print(now)\n",
    "\n",
    "# Format date\n",
    "print(now.strftime(\"%A, %B %d, %Y\"))"
   ]
  },
  {
   "cell_type": "markdown",
   "metadata": {},
   "source": [
    "**🧩 Exercise:** Print today's date in the format `YYYY-MM-DD`. Then calculate the number of days until a future date (e.g., your birthday)."
   ]
  },
  {
   "cell_type": "markdown",
   "metadata": {},
   "source": [
    "## 🧠 Section 4: Combining Libraries"
   ]
  },
  {
   "cell_type": "code",
   "metadata": {},
   "source": [
    "# Random math challenge with timestamp\n",
    "import math, random\n",
    "from datetime import datetime\n",
    "\n",
    "x = random.randint(1, 100)\n",
    "y = random.randint(1, 5)\n",
    "result = math.pow(x, y)\n",
    "timestamp = datetime.now().strftime(\"%H:%M:%S\")\n",
    "\n",
    "print(f\"{x} to the power of {y} is {result} (calculated at {timestamp})\")"
   ]
  },
  {
   "cell_type": "markdown",
   "metadata": {},
   "source": [
    "**🧩 Exercise:** Create a program that randomly selects two numbers, calculates their square root, and prints the result with a timestamp."
   ]
  },
  {
   "cell_type": "markdown",
   "metadata": {},
   "source": [
    "## ✅ Final Step: Save & Submit\n",
    "Download your notebook using *File → Download as → Notebook (.ipynb)* and upload it to Moodle for grading."
   ]
  }
 ],
 "metadata": {
  "kernelspec": {
   "display_name": "Python 3",
   "language": "python",
   "name": "python3"
  },
  "language_info": {
   "name": "python",
   "version": "3.10"
  }
 },
 "nbformat": 4,
 "nbformat_minor": 5
}
