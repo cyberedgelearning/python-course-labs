{
 "cells": [
  {
   "cell_type": "markdown",
   "metadata": {},
   "source": [
    "# Lab 1: Object-Oriented Programming (OOP)\n",
    "\n",
    "In this lab, you'll practice creating classes, using inheritance, and encapsulation.\n",
    "\n",
    "### Tasks\n",
    "1. Create a `Person` class with attributes `name` and `age`, and a method `greet()`.\n",
    "2. Create a `Student` class that inherits from `Person` and adds a `grade` attribute.\n",
    "3. Add a method `study()` in `Student` that prints `\"Student <name> is studying.\"`.\n",
    "4. Experiment with private attributes by adding `_id` to `Person`.\n",
    "\n",
    "### Challenge\n",
    "Build a **Shape hierarchy**:\n",
    "- Base class: `Shape` with a method `area()`.\n",
    "- Subclasses: `Circle` and `Rectangle` with their own `area()` implementations."
   ]
  },
  {
   "cell_type": "code",
   "execution_count": null,
   "metadata": {},
   "outputs": [],
   "source": [
    "# Task 1: Create Person class\n",
    "class Person:\n",
    "    def __init__(self, name, age):\n",
    "        self.name = name\n",
    "        self.age = age\n",
    "        self._id = 12345  # private by convention\n",
    "\n",
    "    def greet(self):\n",
    "        print(f\"Hi, I’m {self.name} and I’m {self.age} years old.\")\n",
    "\n",
    "# Example usage\n",
    "p = Person(\"Alex\", 25)\n",
    "p.greet()"
   ]
  },
  {
   "cell_type": "code",
   "execution_count": null,
   "metadata": {},
   "outputs": [],
   "source": [
    "# Task 2 & 3: Create Student subclass\n",
    "class Student(Person):\n",
    "    def __init__(self, name, age, grade):\n",
    "        super().__init__(name, age)\n",
    "        self.grade = grade\n",
    "\n",
    "    def study(self):\n",
    "        print(f\"Student {self.name} is studying.\")\n",
    "\n",
    "# Example usage\n",
    "s = Student(\"Jordan\", 20, \"A\")\n",
    "s.greet()\n",
    "s.study()"
   ]
  },
  {
   "cell_type": "code",
   "execution_count": null,
   "metadata": {},
   "outputs": [],
   "source": [
    "# Challenge: Shape hierarchy\n",
    "import math\n",
    "\n",
    "class Shape:\n",
    "    def area(self):\n",
    "        return 0\n",
    "\n",
    "class Circle(Shape):\n",
    "    def __init__(self, radius):\n",
    "        self.radius = radius\n",
    "    def area(self):\n",
    "        return math.pi * self.radius**2\n",
    "\n",
    "class Rectangle(Shape):\n",
    "    def __init__(self, width, height):\n",
    "        self.width = width\n",
    "        self.height = height\n",
    "    def area(self):\n",
    "        return self.width * self.height\n",
    "\n",
    "c = Circle(5)\n",
    "r = Rectangle(4, 6)\n",
    "print(\"Circle area:\", c.area())\n",
    "print(\"Rectangle area:\", r.area())"
   ]
  }
 ],
 "metadata": {
  "kernelspec": {
   "display_name": "Python 3",
   "language": "python",
   "name": "python3"
  },
  "language_info": {
   "name": "python",
   "version": "3.11"
  }
 },
 "nbformat": 4,
 "nbformat_minor": 5
}
