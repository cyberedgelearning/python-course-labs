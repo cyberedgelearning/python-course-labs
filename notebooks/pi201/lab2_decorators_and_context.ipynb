{
 "cells": [
  {
   "cell_type": "markdown",
   "metadata": {},
   "source": [
    "# Lab 2: Decorators & Context Managers\n",
    "\n",
    "In this lab, you'll practice using decorators and creating custom context managers.\n",
    "\n",
    "### Tasks\n",
    "1. Write a decorator `log` that prints the function name before running it.\n",
    "2. Apply `@log` to a `greet()` function.\n",
    "3. Write a decorator `timer` that measures how long a function takes to run.\n",
    "4. Use the built-in `with open()` context manager to read a file.\n",
    "\n",
    "### Challenge\n",
    "Create a **custom context manager** using a class:\n",
    "- On enter: print `\"Starting resource\"`.\n",
    "- On exit: print `\"Cleaning up resource\"`.\n",
    "- Use it in a `with` block."
   ]
  },
  {
   "cell_type": "code",
   "execution_count": null,
   "metadata": {},
   "outputs": [],
   "source": [
    "# Task 1 & 2: log decorator\n",
    "def log(func):\n",
    "    def wrapper(*args, **kwargs):\n",
    "        print(\"Calling function:\", func.__name__)\n",
    "        return func(*args, **kwargs)\n",
    "    return wrapper\n",
    "\n",
    "@log\n",
    "def greet(name):\n",
    "    print(\"Hello,\", name)\n",
    "\n",
    "greet(\"Alex\")"
   ]
  },
  {
   "cell_type": "code",
   "execution_count": null,
   "metadata": {},
   "outputs": [],
   "source": [
    "# Task 3: timer decorator\n",
    "import time\n",
    "\n",
    "def timer(func):\n",
    "    def wrapper(*args, **kwargs):\n",
    "        start = time.time()\n",
    "        result = func(*args, **kwargs)\n",
    "        end = time.time()\n",
    "        print(f\"Execution time: {end - start:.4f} seconds\")\n",
    "        return result\n",
    "    return wrapper\n",
    "\n",
    "@timer\n",
    "def slow_function():\n",
    "    time.sleep(1)\n",
    "    print(\"Done!\")\n",
    "\n",
    "slow_function()"
   ]
  },
  {
   "cell_type": "code",
   "execution_count": null,
   "metadata": {},
   "outputs": [],
   "source": [
    "# Task 4: Built-in context manager\n",
    "with open(\"sample.txt\", \"w\") as f:\n",
    "    f.write(\"This is a test file.\")\n",
    "\n",
    "with open(\"sample.txt\", \"r\") as f:\n",
    "    print(f.read())"
   ]
  },
  {
   "cell_type": "code",
   "execution_count": null,
   "metadata": {},
   "outputs": [],
   "source": [
    "# Challenge: Custom context manager\n",
    "class CustomManager:\n",
    "    def __enter__(self):\n",
    "        print(\"Starting resource\")\n",
    "    def __exit__(self, exc_type, exc_val, exc_tb):\n",
    "        print(\"Cleaning up resource\")\n",
    "\n",
    "with CustomManager():\n",
    "    print(\"Inside the block\")"
   ]
  }
 ],
 "metadata": {
  "kernelspec": {
   "display_name": "Python 3",
   "language": "python",
   "name": "python3"
  },
  "language_info": {
   "name": "python",
   "version": "3.11"
  }
 },
 "nbformat": 4,
 "nbformat_minor": 5
}
