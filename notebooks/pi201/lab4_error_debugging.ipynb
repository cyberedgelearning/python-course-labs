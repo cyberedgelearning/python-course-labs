{
 "cells": [
  {
   "cell_type": "markdown",
   "metadata": {},
   "source": [
    "# Lab 4: Error Handling & Debugging\n",
    "\n",
    "In this lab, you'll practice handling exceptions, creating custom errors, and using logging.\n",
    "\n",
    "### Tasks\n",
    "1. Write a program that asks for a number and handles non-numeric input with `try/except`.\n",
    "2. Create a custom exception `NegativeNumberError`.\n",
    "3. Write a function `square_root(x)` that raises this exception if `x < 0`.\n",
    "4. Use `logging` to record errors to a file.\n",
    "\n",
    "### Challenge\n",
    "Write a program that asks for a filename, tries to open it, and:\n",
    "- If the file doesn’t exist, catches the error.\n",
    "- Logs the error to `errors.log`."
   ]
  },
  {
   "cell_type": "code",
   "execution_count": null,
   "metadata": {},
   "outputs": [],
   "source": [
    "# Task 1: Handle non-numeric input\n",
    "try:\n",
    "    num = int(input(\"Enter a number: \"))\n",
    "    print(\"You entered:\", num)\n",
    "except ValueError:\n",
    "    print(\"Invalid input. Please enter a number.\")"
   ]
  },
  {
   "cell_type": "code",
   "execution_count": null,
   "metadata": {},
   "outputs": [],
   "source": [
    "# Task 2 & 3: Custom exception\n",
    "class NegativeNumberError(Exception):\n",
    "    pass\n",
    "\n",
    "def square_root(x):\n",
    "    if x < 0:\n",
    "        raise NegativeNumberError(\"Cannot take square root of negative number\")\n",
    "    return x ** 0.5\n",
    "\n",
    "try:\n",
    "    print(square_root(-9))\n",
    "except NegativeNumberError as e:\n",
    "    print(\"Error:\", e)"
   ]
  },
  {
   "cell_type": "code",
   "execution_count": null,
   "metadata": {},
   "outputs": [],
   "source": [
    "# Task 4: Logging errors\n",
    "import logging\n",
    "\n",
    "logging.basicConfig(filename=\"errors.log\", level=logging.ERROR)\n",
    "\n",
    "try:\n",
    "    value = int(\"abc\")\n",
    "except ValueError as e:\n",
    "    logging.error(\"ValueError: %s\", e)\n",
    "    print(\"Error logged to errors.log\")"
   ]
  },
  {
   "cell_type": "code",
   "execution_count": null,
   "metadata": {},
   "outputs": [],
   "source": [
    "# Challenge: File handling with error logging\n",
    "filename = input(\"Enter filename: \")\n",
    "try:\n",
    "    with open(filename, \"r\") as f:\n",
    "        print(f.read())\n",
    "except FileNotFoundError as e:\n",
    "    logging.error(\"FileNotFoundError: %s\", e)\n",
    "    print(\"File not found. Error logged.\")"
   ]
  }
 ],
 "metadata": {
  "kernelspec": {
   "display_name": "Python 3",
   "language": "python",
   "name": "python3"
  },
  "language_info": {
   "name": "python",
   "version": "3.11"
  }
 },
 "nbformat": 4,
 "nbformat_minor": 5
}
