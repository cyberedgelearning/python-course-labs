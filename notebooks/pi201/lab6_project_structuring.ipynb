{
 "cells": [
  {
   "cell_type": "markdown",
   "metadata": {},
   "source": [
    "# Lab 6: Project Structuring\n",
    "\n",
    "In this lab, you'll practice organizing code into modules and packages.\n",
    "\n",
    "### Tasks\n",
    "1. Create a file `utils.py` with a function `greet(name)`.\n",
    "2. Create a file `main.py` that imports and calls `greet()`.\n",
    "3. Create a package folder `shapes/` with files `circle.py` and `rectangle.py`.\n",
    "4. In `main.py`, import classes from `shapes` and use them.\n",
    "\n",
    "### Challenge\n",
    "Build a **mini calculator package**:\n",
    "- Package `calculator/` with modules `add.py`, `subtract.py`, `multiply.py`, `divide.py`.\n",
    "- Each module has one function.\n",
    "- `main.py` imports them and provides a menu to the user."
   ]
  },
  {
   "cell_type": "code",
   "execution_count": null,
   "metadata": {},
   "outputs": [],
   "source": [
    "# Task 1: utils.py\n",
    "%%writefile utils.py\n",
    "def greet(name):\n",
    "    return f\"Hello, {name}!\""
   ]
  },
  {
   "cell_type": "code",
   "execution_count": null,
   "metadata": {},
   "outputs": [],
   "source": [
    "# Task 2: main.py\n",
    "%%writefile main.py\n",
    "import utils\n",
    "print(utils.greet(\"Alex\"))"
   ]
  },
  {
   "cell_type": "code",
   "execution_count": null,
   "metadata": {},
   "outputs": [],
   "source": [
    "# Task 3: shapes package\n",
    "%%writefile shapes/circle.py\n",
    "import math\n",
    "class Circle:\n",
    "    def __init__(self, radius):\n",
    "        self.radius = radius\n",
    "    def area(self):\n",
    "        return math.pi * self.radius**2\n",
    "\n",
    "%%writefile shapes/rectangle.py\n",
    "class Rectangle:\n",
    "    def __init__(self, width, height):\n",
    "        self.width = width\n",
    "        self.height = height\n",
    "    def area(self):\n",
    "        return self.width * self.height"
   ]
  },
  {
   "cell_type": "code",
   "execution_count": null,
   "metadata": {},
   "outputs": [],
   "source": [
    "# Task 4: Import classes from shapes\n",
    "from shapes.circle import Circle\n",
    "from shapes.rectangle import Rectangle\n",
    "\n",
    "c = Circle(5)\n",
    "r = Rectangle(4, 6)\n",
    "print(\"Circle area:\", c.area())\n",
    "print(\"Rectangle area:\", r.area())"
   ]
  },
  {
   "cell_type": "code",
   "execution_count": null,
   "metadata": {},
   "outputs": [],
   "source": [
    "# Challenge: Calculator package\n",
    "%%writefile calculator/add.py\n",
    "def add(a, b):\n",
    "    return a + b\n",
    "\n",
    "%%writefile calculator/subtract.py\n",
    "def subtract(a, b):\n",
    "    return a - b\n",
    "\n",
    "%%writefile calculator/multiply.py\n",
    "def multiply(a, b):\n",
    "    return a * b\n",
    "\n",
    "%%writefile calculator/divide.py\n",
    "def divide(a, b):\n",
    "    return a / b if b != 0 else \"Error: divide by zero\"\n",
    "\n",
    "%%writefile main.py\n",
    "from calculator.add import add\n",
    "from calculator.subtract import subtract\n",
    "from calculator.multiply import multiply\n",
    "from calculator.divide import divide\n",
    "\n",
    "print(\"Calculator\")\n",
    "print(\"1. Add\\n2. Subtract\\n3. Multiply\\n4. Divide\")\n",
    "choice = input(\"Choose operation: \")\n",
    "x = float(input(\"First number: \"))\n",
    "y = float(input(\"Second number: \"))\n",
    "\n",
    "if choice == \"1\":\n",
    "    print(add(x, y))\n",
    "elif choice == \"2\":\n",
    "    print(subtract(x, y))\n",
    "elif choice == \"3\":\n",
    "    print(multiply(x, y))\n",
    "elif choice == \"4\":\n",
    "    print(divide(x, y))\n",
    "else:\n",
    "    print(\"Invalid choice\")"
   ]
  }
 ],
 "metadata": {
  "kernelspec": {
   "display_name": "Python 3",
   "language": "python",
   "name": "python3"
  },
  "language_info": {
   "name": "python",
   "version": "3.11"
  }
 },
 "nbformat": 4,
 "nbformat_minor": 5
}
