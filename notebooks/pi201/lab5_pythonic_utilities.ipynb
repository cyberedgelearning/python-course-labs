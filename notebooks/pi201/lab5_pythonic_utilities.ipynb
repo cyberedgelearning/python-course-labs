{
 "cells": [
  {
   "cell_type": "markdown",
   "metadata": {},
   "source": [
    "# Lab 5: Pythonic Utilities\n",
    "\n",
    "In this lab, you'll practice using `enumerate`, `zip`, `lambda`, `map`, and `filter`.\n",
    "\n",
    "### Tasks\n",
    "1. Use `enumerate()` to loop through a list of colors and print with numbers.\n",
    "2. Use `zip()` to combine two lists: students and grades.\n",
    "3. Write a `lambda` function to cube a number.\n",
    "4. Use `map()` with a lambda to double a list of numbers.\n",
    "5. Use `filter()` with a lambda to keep only even numbers.\n",
    "\n",
    "### Challenge\n",
    "Create a **student report**:\n",
    "- Two lists: names and grades.\n",
    "- Use `zip()` to combine them.\n",
    "- Use `filter()` to only show students with grades ≥ 80."
   ]
  },
  {
   "cell_type": "code",
   "execution_count": null,
   "metadata": {},
   "outputs": [],
   "source": [
    "# Task 1: enumerate\n",
    "colors = [\"red\", \"green\", \"blue\"]\n",
    "for i, color in enumerate(colors, start=1):\n",
    "    print(i, color)"
   ]
  },
  {
   "cell_type": "code",
   "execution_count": null,
   "metadata": {},
   "outputs": [],
   "source": [
    "# Task 2: zip\n",
    "students = [\"Alex\", \"Jordan\", \"Taylor\"]\n",
    "grades = [90, 75, 82]\n",
    "for student, grade in zip(students, grades):\n",
    "    print(student, grade)"
   ]
  },
  {
   "cell_type": "code",
   "execution_count": null,
   "metadata": {},
   "outputs": [],
   "source": [
    "# Task 3: lambda cube\n",
    "cube = lambda x: x**3\n",
    "print(cube(3))  # Expected 27"
   ]
  },
  {
   "cell_type": "code",
   "execution_count": null,
   "metadata": {},
   "outputs": [],
   "source": [
    "# Task 4: map with lambda\n",
    "nums = [1, 2, 3, 4, 5]\n",
    "doubled = list(map(lambda x: x*2, nums))\n",
    "print(doubled)  # Expected [2, 4, 6, 8, 10]"
   ]
  },
  {
   "cell_type": "code",
   "execution_count": null,
   "metadata": {},
   "outputs": [],
   "source": [
    "# Task 5: filter with lambda\n",
    "evens = list(filter(lambda x: x%2 == 0, nums))\n",
    "print(evens)  # Expected [2, 4]"
   ]
  },
  {
   "cell_type": "code",
   "execution_count": null,
   "metadata": {},
   "outputs": [],
   "source": [
    "# Challenge: Student report\n",
    "students = [\"Alex\", \"Jordan\", \"Taylor\", \"Casey\"]\n",
    "grades = [90, 75, 82, 60]\n",
    "\n",
    "report = list(zip(students, grades))\n",
    "passing = list(filter(lambda x: x[1] >= 80, report))\n",
    "print(\"Passing students:\")\n",
    "for student, grade in passing:\n",
    "    print(student, grade)"
   ]
  }
 ],
 "metadata": {
  "kernelspec": {
   "display_name": "Python 3",
   "language": "python",
   "name": "python3"
  },
  "language_info": {
   "name": "python",
   "version": "3.11"
  }
 },
 "nbformat": 4,
 "nbformat_minor": 5
}
