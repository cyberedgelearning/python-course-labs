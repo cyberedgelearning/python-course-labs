{
 "cells": [
  {
   "cell_type": "markdown",
   "metadata": {},
   "source": [
    "# Lab 3: External Libraries\n",
    "\n",
    "In this lab, you'll practice using Python libraries like `requests`, `matplotlib`, and `datetime`.\n",
    "\n",
    "### Tasks\n",
    "1. Use `requests.get()` to fetch data from `https://api.agify.io?name=alex`.\n",
    "2. Parse the JSON response and print the `\"age\"` field.\n",
    "3. Use `datetime.now()` to print today’s date.\n",
    "4. Plot a simple graph in `matplotlib` showing 5 numbers on the x-axis and their squares on the y-axis.\n",
    "\n",
    "### Challenge\n",
    "Create a **mini data visualization**:\n",
    "- Fetch data from an API (Agify, Genderize, etc.).\n",
    "- Plot the results in a bar chart with `matplotlib`."
   ]
  },
  {
   "cell_type": "code",
   "execution_count": null,
   "metadata": {},
   "outputs": [],
   "source": [
    "# Task 1 & 2: Fetch API data and print age\n",
    "import requests\n",
    "response = requests.get(\"https://api.agify.io?name=alex\")\n",
    "if response.status_code == 200:\n",
    "    data = response.json()\n",
    "    print(\"Predicted age:\", data[\"age\"])\n",
    "else:\n",
    "    print(\"Error fetching data.\")"
   ]
  },
  {
   "cell_type": "code",
   "execution_count": null,
   "metadata": {},
   "outputs": [],
   "source": [
    "# Task 3: datetime\n",
    "from datetime import datetime\n",
    "now = datetime.now()\n",
    "print(\"Current date and time:\", now)"
   ]
  },
  {
   "cell_type": "code",
   "execution_count": null,
   "metadata": {},
   "outputs": [],
   "source": [
    "# Task 4: matplotlib simple plot\n",
    "import matplotlib.pyplot as plt\n",
    "\n",
    "x = [1, 2, 3, 4, 5]\n",
    "y = [n**2 for n in x]\n",
    "\n",
    "plt.plot(x, y, marker='o')\n",
    "plt.title(\"Squares of Numbers\")\n",
    "plt.xlabel(\"Number\")\n",
    "plt.ylabel(\"Square\")\n",
    "plt.show()"
   ]
  },
  {
   "cell_type": "code",
   "execution_count": null,
   "metadata": {},
   "outputs": [],
   "source": [
    "# Challenge: Mini Data Visualization\n",
    "names = [\"alex\", \"jordan\", \"taylor\"]\n",
    "ages = []\n",
    "for name in names:\n",
    "    response = requests.get(f\"https://api.agify.io?name={name}\")\n",
    "    if response.status_code == 200:\n",
    "        ages.append(response.json()[\"age\"])\n",
    "    else:\n",
    "        ages.append(None)\n",
    "\n",
    "plt.bar(names, ages)\n",
    "plt.title(\"Predicted Ages by Name\")\n",
    "plt.xlabel(\"Name\")\n",
    "plt.ylabel(\"Age\")\n",
    "plt.show()"
   ]
  }
 ],
 "metadata": {
  "kernelspec": {
   "display_name": "Python 3",
   "language": "python",
   "name": "python3"
  },
  "language_info": {
   "name": "python",
   "version": "3.11"
  }
 },
 "nbformat": 4,
 "nbformat_minor": 5
}
