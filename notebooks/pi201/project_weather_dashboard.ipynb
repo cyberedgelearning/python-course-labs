{
 "cells": [
  {
   "cell_type": "markdown",
   "metadata": {},
   "source": [
    "# 🌦️ Optional Project: Weather Dashboard CLI\n",
    "\n",
    "In this project, you'll build a command-line weather dashboard that fetches data from an API, saves reports, and visualizes results.\n",
    "\n",
    "### What You'll Practice\n",
    "- OOP with a `WeatherApp` class\n",
    "- External libraries: `requests`, `matplotlib`\n",
    "- Context managers for saving reports\n",
    "- Error handling and logging\n",
    "- Decorators for logging function calls\n",
    "- Project structuring into multiple modules\n",
    "\n",
    "### Challenge\n",
    "Add a **7-day forecast plot** and save results to a JSON file."
   ]
  },
  {
   "cell_type": "code",
   "execution_count": null,
   "metadata": {},
   "outputs": [],
   "source": [
    "# Step 1: Decorator for logging\n",
    "import time\n",
    "def log_call(func):\n",
    "    def wrapper(*args, **kwargs):\n",
    "        print(f\"Calling {func.__name__} at {time.ctime()}\")\n",
    "        return func(*args, **kwargs)\n",
    "    return wrapper"
   ]
  },
  {
   "cell_type": "code",
   "execution_count": null,
   "metadata": {},
   "outputs": [],
   "source": [
    "# Step 2: WeatherApp class\n",
    "import requests\n",
    "import logging\n",
    "import matplotlib.pyplot as plt\n",
    "\n",
    "logging.basicConfig(filename=\"weather_errors.log\", level=logging.ERROR)\n",
    "\n",
    "class WeatherApp:\n",
    "    base_url = \"https://api.open-meteo.com/v1/forecast\"\n",
    "\n",
    "    @log_call\n",
    "    def get_weather(self, city):\n",
    "        try:\n",
    "            # Using Open-Meteo (no API key needed)\n",
    "            params = {\n",
    "                \"latitude\": 51.5072,  # Example: London\n",
    "                \"longitude\": -0.1276,\n",
    "                \"current_weather\": True\n",
    "            }\n",
    "            response = requests.get(self.base_url, params=params)\n",
    "            response.raise_for_status()\n",
    "            return response.json()[\"current_weather\"]\n",
    "        except Exception as e:\n",
    "            logging.error(\"Error fetching weather: %s\", e)\n",
    "            print(\"Could not fetch weather data.\")\n",
    "            return None\n",
    "\n",
    "    def save_report(self, city, data):\n",
    "        with open(f\"{city}_report.txt\", \"w\") as f:\n",
    "            f.write(str(data))\n",
    "        print(f\"Report saved to {city}_report.txt\")\n",
    "\n",
    "    def plot_temperature(self, city, temps):\n",
    "        plt.plot(temps, marker='o')\n",
    "        plt.title(f\"Temperature Trend for {city}\")\n",
    "        plt.xlabel(\"Time\")\n",
    "        plt.ylabel(\"Temperature (°C)\")\n",
    "        plt.savefig(f\"{city}_plot.png\")\n",
    "        plt.show()\n",
    "        print(f\"Plot saved to {city}_plot.png\")"
   ]
  },
  {
   "cell_type": "code",
   "execution_count": null,
   "metadata": {},
   "outputs": [],
   "source": [
    "# Step 3: Example run\n",
    "app = WeatherApp()\n",
    "data = app.get_weather(\"London\")\n",
    "if data:\n",
    "    print(\"Weather:\", data)\n",
    "    app.save_report(\"London\", data)\n",
    "    # Fake temps for demo\n",
    "    temps = [12, 13, 14, 15, 15, 14, 13]\n",
    "    app.plot_temperature(\"London\", temps)"
   ]
  }
 ],
 "metadata": {
  "kernelspec": {
   "display_name": "Python 3",
   "language": "python",
   "name": "python3"
  },
  "language_info": {
   "name": "python",
   "version": "3.11"
  }
 },
 "nbformat": 4,
 "nbformat_minor": 5
}
