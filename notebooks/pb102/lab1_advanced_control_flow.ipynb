{
 "cells": [
  {
   "cell_type": "markdown",
   "metadata": {},
   "source": [
    "# Lab 1: Advanced Control Flow\n",
    "\n",
    "In this lab, you'll practice nested conditions, loop logic, and input validation.\n",
    "\n",
    "### Tasks\n",
    "1. Write a program that asks the user for a number.\n",
    "   - If the number is even, print `\"Even number\"`.\n",
    "   - If the number is odd, print `\"Odd number\"`.\n",
    "   - If the input is not a number, keep asking until the user enters one.\n",
    "\n",
    "2. Extend your program to check if the number is greater than 100.\n",
    "   - If so, print `\"Big number\"`.\n",
    "   - Otherwise, print `\"Small number\"`.\n",
    "\n",
    "### Challenge\n",
    "Build a simple **login system**:\n",
    "- Ask for a username and password.\n",
    "- If the credentials match, print `\"Access granted\"`.\n",
    "- Otherwise, allow **3 attempts** before locking the user out.\n"
   ]
  },
  {
   "cell_type": "code",
   "execution_count": null,
   "metadata": {},
   "outputs": [],
   "source": [
    "# Task 1: Ask for a number and check even/odd\n",
    "\n",
    "while True:\n",
    "    user_input = input(\"Enter a number: \")\n",
    "    if user_input.isdigit():\n",
    "        num = int(user_input)\n",
    "        if num % 2 == 0:\n",
    "            print(\"Even number\")\n",
    "        else:\n",
    "            print(\"Odd number\")\n",
    "        break\n",
    "    else:\n",
    "        print(\"Invalid input. Please enter a number.\")"
   ]
  },
  {
   "cell_type": "code",
   "execution_count": null,
   "metadata": {},
   "outputs": [],
   "source": [
    "# Task 2: Check if number is greater than 100\n",
    "\n",
    "if num > 100:\n",
    "    print(\"Big number\")\n",
    "else:\n",
    "    print(\"Small number\")"
   ]
  },
  {
   "cell_type": "code",
   "execution_count": null,
   "metadata": {},
   "outputs": [],
   "source": [
    "# Challenge: Simple login system\n",
    "\n",
    "correct_username = \"admin\"\n",
    "correct_password = \"password123\"\n",
    "\n",
    "for attempt in range(3):\n",
    "    username = input(\"Enter username: \")\n",
    "    password = input(\"Enter password: \")\n",
    "    \n",
    "    if username == correct_username and password == correct_password:\n",
    "        print(\"Access granted\")\n",
    "        break\n",
    "    else:\n",
    "        print(\"Invalid credentials.\")\n",
    "else:\n",
    "    print(\"Too many attempts. Access locked.\")"
   ]
  }
 ],
 "metadata": {
  "kernelspec": {
   "display_name": "Python 3",
   "language": "python",
   "name": "python3"
  },
  "language_info": {
   "codemirror_mode": {
    "name": "ipython",
    "version": 3
   },
   "file_extension": ".py",
   "mimetype": "text/x-python",
   "name": "python",
   "nbconvert_exporter": "python",
   "pygments_lexer": "ipython3",
   "version": "3.11"
  }
 },
 "nbformat": 4,
 "nbformat_minor": 5
}
