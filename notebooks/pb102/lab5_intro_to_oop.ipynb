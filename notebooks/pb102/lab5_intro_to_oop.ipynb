{
 "cells": [
  {
   "cell_type": "markdown",
   "metadata": {},
   "source": [
    "# Lab 5: Intro to Object-Oriented Programming (OOP)\n",
    "\n",
    "In this lab, you'll practice creating classes, methods, and objects.\n",
    "\n",
    "### Tasks\n",
    "1. Create a class `Person` with attributes `name` and `age`.\n",
    "2. Add a method `greet()` that prints `\"Hi, my name is <name>\"`.\n",
    "3. Create two `Person` objects and call their `greet()` method.\n",
    "4. Add a method `birthday()` that increases age by 1.\n",
    "\n",
    "### Challenge\n",
    "Create a **BankAccount** class:\n",
    "- Attributes: `owner`, `balance` (default 0).\n",
    "- Methods: `deposit(amount)`, `withdraw(amount)`, `get_balance()`.\n",
    "- Prevent withdrawals that would result in a negative balance."
   ]
  },
  {
   "cell_type": "code",
   "execution_count": null,
   "metadata": {},
   "outputs": [],
   "source": [
    "# Task 1: Create class Person\n",
    "class Person:\n",
    "    def __init__(self, name, age):\n",
    "        self.name = name\n",
    "        self.age = age\n",
    "\n",
    "    # Task 2: greet method\n",
    "    def greet(self):\n",
    "        print(f\"Hi, my name is {self.name}\")\n",
    "\n",
    "    # Task 4: birthday method\n",
    "    def birthday(self):\n",
    "        self.age += 1\n",
    "        print(f\"{self.name} is now {self.age} years old.\")\n",
    "\n",
    "# Task 3: Create two Person objects\n",
    "p1 = Person(\"Alex\", 25)\n",
    "p2 = Person(\"Jordan\", 30)\n",
    "p1.greet()\n",
    "p2.greet()"
   ]
  },
  {
   "cell_type": "code",
   "execution_count": null,
   "metadata": {},
   "outputs": [],
   "source": [
    "# Challenge: BankAccount class\n",
    "class BankAccount:\n",
    "    def __init__(self, owner, balance=0):\n",
    "        self.owner = owner\n",
    "        self.balance = balance\n",
    "\n",
    "    def deposit(self, amount):\n",
    "        self.balance += amount\n",
    "        print(f\"Deposited {amount}. New balance: {self.balance}\")\n",
    "\n",
    "    def withdraw(self, amount):\n",
    "        if amount > self.balance:\n",
    "            print(\"Insufficient funds.\")\n",
    "        else:\n",
    "            self.balance -= amount\n",
    "            print(f\"Withdrew {amount}. New balance: {self.balance}\")\n",
    "\n",
    "    def get_balance(self):\n",
    "        return self.balance\n",
    "\n",
    "# Test the BankAccount class\n",
    "account = BankAccount(\"Alex\")\n",
    "account.deposit(100)\n",
    "account.withdraw(30)\n",
    "print(\"Final Balance:\", account.get_balance())"
   ]
  }
 ],
 "metadata": {
  "kernelspec": {
   "display_name": "Python 3",
   "language": "python",
   "name": "python3"
  },
  "language_info": {
   "name": "python",
   "version": "3.11"
  }
 },
 "nbformat": 4,
 "nbformat_minor": 5
}
