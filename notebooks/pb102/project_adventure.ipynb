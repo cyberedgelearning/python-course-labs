{
 "cells": [
  {
   "cell_type": "markdown",
   "metadata": {},
   "source": [
    "# 🐍 Optional Project: Text-Based Adventure Game\n",
    "\n",
    "Welcome to your adventure game project! 🎉\n",
    "\n",
    "Your goal is to build a text-based game where the player can:\n",
    "- Explore rooms\n",
    "- Pick up items\n",
    "- Avoid danger\n",
    "- Win by completing a goal\n",
    "\n",
    "This project ties together **control flow, functions, data structures, and file handling**."
   ]
  },
  {
   "cell_type": "code",
   "execution_count": null,
   "metadata": {},
   "outputs": [],
   "source": [
    "# Step 1: Game Setup - Rooms\n",
    "rooms = {\n",
    "    \"hall\": {\"desc\": \"A long hallway with doors.\", \"exits\": [\"kitchen\", \"bedroom\"], \"items\": []},\n",
    "    \"kitchen\": {\"desc\": \"Smells like cookies.\", \"exits\": [\"hall\"], \"items\": [\"key\"]},\n",
    "    \"bedroom\": {\"desc\": \"A cozy room with a bed.\", \"exits\": [\"hall\"], \"items\": []}\n",
    "}\n",
    "\n",
    "current_room = \"hall\"\n",
    "inventory = []"
   ]
  },
  {
   "cell_type": "code",
   "execution_count": null,
   "metadata": {},
   "outputs": [],
   "source": [
    "# Step 2: Player Movement\n",
    "def move(next_room):\n",
    "    global current_room\n",
    "    if next_room in rooms[current_room][\"exits\"]:\n",
    "        current_room = next_room\n",
    "        print(\"You are now in:\", current_room)\n",
    "        print(rooms[current_room][\"desc\"])\n",
    "    else:\n",
    "        print(\"You can't go that way.\")\n",
    "\n",
    "# Try moving:\n",
    "move(\"kitchen\")\n",
    "move(\"hall\")"
   ]
  },
  {
   "cell_type": "code",
   "execution_count": null,
   "metadata": {},
   "outputs": [],
   "source": [
    "# Step 3: Inventory System\n",
    "def pick_up(item):\n",
    "    if item in rooms[current_room][\"items\"]:\n",
    "        inventory.append(item)\n",
    "        rooms[current_room][\"items\"].remove(item)\n",
    "        print(\"You picked up:\", item)\n",
    "    else:\n",
    "        print(\"No such item here.\")\n",
    "\n",
    "def drop(item):\n",
    "    if item in inventory:\n",
    "        inventory.remove(item)\n",
    "        rooms[current_room][\"items\"].append(item)\n",
    "        print(\"You dropped:\", item)\n",
    "    else:\n",
    "        print(\"You don't have that item.\")\n",
    "\n",
    "# Try picking up an item:\n",
    "move(\"kitchen\")\n",
    "pick_up(\"key\")\n",
    "print(\"Inventory:\", inventory)"
   ]
  },
  {
   "cell_type": "code",
   "execution_count": null,
   "metadata": {},
   "outputs": [],
   "source": [
    "# Step 4: Win/Lose Conditions\n",
    "def check_win():\n",
    "    if \"key\" in inventory and current_room == \"bedroom\":\n",
    "        print(\"You unlocked the bedroom and found treasure! You win! 🏆\")\n",
    "        return True\n",
    "    return False\n",
    "\n",
    "# Example check:\n",
    "move(\"bedroom\")\n",
    "check_win()"
   ]
  },
  {
   "cell_type": "code",
   "execution_count": null,
   "metadata": {},
   "outputs": [],
   "source": [
    "# Step 5: Save/Load Game\n",
    "import json\n",
    "\n",
    "def save_game():\n",
    "    game_data = {\"room\": current_room, \"inventory\": inventory}\n",
    "    with open(\"savegame.json\", \"w\") as f:\n",
    "        json.dump(game_data, f)\n",
    "    print(\"Game saved!\")\n",
    "\n",
    "def load_game():\n",
    "    global current_room, inventory\n",
    "    with open(\"savegame.json\", \"r\") as f:\n",
    "        game_data = json.load(f)\n",
    "    current_room = game_data[\"room\"]\n",
    "    inventory = game_data[\"inventory\"]\n",
    "    print(\"Game loaded!\")\n",
    "\n",
    "# Test save/load\n",
    "save_game()\n",
    "load_game()"
   ]
  },
  {
   "cell_type": "markdown",
   "metadata": {},
   "source": [
    "### 🌟 Stretch Goals\n",
    "- Add health points and combat.\n",
    "- Add enemies with simple AI.\n",
    "- Use `random` to shuffle item locations.\n",
    "- Convert `Player` and `Room` into classes.\n",
    "\n",
    "Have fun — this project is yours to customize!"
   ]
  }
 ],
 "metadata": {
  "kernelspec": {
   "display_name": "Python 3",
   "language": "python",
   "name": "python3"
  },
  "language_info": {
   "name": "python",
   "version": "3.11"
  }
 },
 "nbformat": 4,
 "nbformat_minor": 5
}
