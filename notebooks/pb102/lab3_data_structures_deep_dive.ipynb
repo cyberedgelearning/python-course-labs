{
 "cells": [
  {
   "cell_type": "markdown",
   "metadata": {},
   "source": [
    "# Lab 3: Data Structures Deep Dive\n",
    "\n",
    "In this lab, you'll practice working with nested lists and dictionaries, sets, tuples, and comprehensions.\n",
    "\n",
    "### Tasks\n",
    "1. Create a dictionary with three students and their grades.\n",
    "2. Add another student to the dictionary.\n",
    "3. Store student dictionaries inside a list.\n",
    "4. Use a comprehension to create a list of all grades.\n",
    "\n",
    "### Challenge\n",
    "Build a **student grade tracker**:\n",
    "- Ask for student names and grades.\n",
    "- Store each as a dictionary inside a list.\n",
    "- At the end, print the average grade."
   ]
  },
  {
   "cell_type": "code",
   "execution_count": null,
   "metadata": {},
   "outputs": [],
   "source": [
    "# Task 1: Create dictionary\n",
    "grades = {\"Alex\": 90, \"Jordan\": 85, \"Taylor\": 78}\n",
    "print(grades)"
   ]
  },
  {
   "cell_type": "code",
   "execution_count": null,
   "metadata": {},
   "outputs": [],
   "source": [
    "# Task 2: Add another student\n",
    "grades[\"Casey\"] = 88\n",
    "print(grades)"
   ]
  },
  {
   "cell_type": "code",
   "execution_count": null,
   "metadata": {},
   "outputs": [],
   "source": [
    "# Task 3: Store dictionaries in a list\n",
    "students = [\n",
    "    {\"name\": \"Alex\", \"grade\": 90},\n",
    "    {\"name\": \"Jordan\", \"grade\": 85},\n",
    "    {\"name\": \"Taylor\", \"grade\": 78},\n",
    "    {\"name\": \"Casey\", \"grade\": 88}\n",
    "]\n",
    "print(students)"
   ]
  },
  {
   "cell_type": "code",
   "execution_count": null,
   "metadata": {},
   "outputs": [],
   "source": [
    "# Task 4: List comprehension of grades\n",
    "all_grades = [s[\"grade\"] for s in students]\n",
    "print(all_grades)"
   ]
  },
  {
   "cell_type": "code",
   "execution_count": null,
   "metadata": {},
   "outputs": [],
   "source": [
    "# Challenge: Student grade tracker\n",
    "students = []\n",
    "while True:\n",
    "    name = input(\"Enter student name (or 'done'): \")\n",
    "    if name == \"done\":\n",
    "        break\n",
    "    grade = int(input(\"Enter grade: \"))\n",
    "    students.append({\"name\": name, \"grade\": grade})\n",
    "\n",
    "average = sum([s[\"grade\"] for s in students]) / len(students)\n",
    "print(\"Average grade:\", average)"
   ]
  }
 ],
 "metadata": {
  "kernelspec": {
   "display_name": "Python 3",
   "language": "python",
   "name": "python3"
  },
  "language_info": {
   "name": "python",
   "version": "3.11"
  }
 },
 "nbformat": 4,
 "nbformat_minor": 5
}
