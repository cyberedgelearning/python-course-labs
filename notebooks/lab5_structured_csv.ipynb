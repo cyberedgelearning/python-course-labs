{
 "cells": [
  {
   "cell_type": "markdown",
   "metadata": {},
   "source": [
    "# Lab 5: Working with CSV Files and Tabular Data\n",
    "\n",
    "Welcome to Lab 5! In this lab, you'll explore how to read, filter, and write CSV data using Python's built-in `csv` module.\n",
    "\n",
    "### Objectives\n",
    "- Read structured data from a CSV file\n",
    "- Filter students based on score\n",
    "- Calculate class average\n",
    "- Write filtered data to a new CSV file\n",
    "\n",
    "### Bonus\n",
    "- Add a column for letter grades (`A`, `B`, `C`, etc.) based on score thresholds\n",
    "\n",
    "---\n",
    "© 2025 CyberEdge Learning. All content is protected by copyright. Redistribution or unauthorized use is prohibited."
   ]
  },
  {
   "cell_type": "code",
   "execution_count": null,
   "metadata": {},
   "outputs": [],
   "source": [
    "# Sample CSV data\n",
    "with open('students.csv', 'w') as f:\n",
    "    f.write(\"\"\"id,name,score\n",
    "101,Alice,88\n",
    "102,Bob,72\n",
    "103,Charlie,95\n",
    "104,Dana,67\n",
    "105,Eli,80\n",
    "\"\"\")"
   ]
  },
  {
   "cell_type": "code",
   "execution_count": null,
   "metadata": {},
   "outputs": [],
   "source": [
    "import csv\n",
    "\n",
    "def read_students(filename):\n",
    "    with open(filename, newline='') as f:\n",
    "        return list(csv.DictReader(f))\n",
    "\n",
    "students = read_students('students.csv')\n",
    "for student in students:\n",
    "    print(student)"
   ]
  },
  {
   "cell_type": "code",
   "execution_count": null,
   "metadata": {},
   "outputs": [],
   "source": [
    "def filter_high_scores(data, threshold=85):\n",
    "    return [row for row in data if int(row['score']) >= threshold]\n",
    "\n",
    "honor_roll = filter_high_scores(students)\n",
    "honor_roll"
   ]
  },
  {
   "cell_type": "code",
   "execution_count": null,
   "metadata": {},
   "outputs": [],
   "source": [
    "def calculate_average(data):\n",
    "    scores = [int(row['score']) for row in data]\n",
    "    return sum(scores) / len(scores)\n",
    "\n",
    "average = calculate_average(students)\n",
    "print(\"Average score:\", round(average, 2))"
   ]
  },
  {
   "cell_type": "code",
   "execution_count": null,
   "metadata": {},
   "outputs": [],
   "source": [
    "def write_honor_roll(data, filename='honor_roll.csv'):\n",
    "    with open(filename, 'w', newline='') as f:\n",
    "        writer = csv.DictWriter(f, fieldnames=['id', 'name', 'score'])\n",
    "        writer.writeheader()\n",
    "        writer.writerows(data)\n",
    "\n",
    "write_honor_roll(honor_roll)"
   ]
  },
  {
   "cell_type": "code",
   "execution_count": null,
   "metadata": {},
   "outputs": [],
   "source": [
    "# Optional: Add letter grades\n",
    "def assign_grades(data):\n",
    "    for row in data:\n",
    "        score = int(row['score'])\n",
    "        if score >= 90:\n",
    "            row['grade'] = 'A'\n",
    "        elif score >= 80:\n",
    "            row['grade'] = 'B'\n",
    "        elif score >= 70:\n",
    "            row['grade'] = 'C'\n",
    "        else:\n",
    "            row['grade'] = 'D'\n",
    "    return data\n",
    "\n",
    "graded_students = assign_grades(students)\n",
    "graded_students"
   ]
  }
 ],
 "metadata": {
  "kernelspec": {
   "display_name": "Python 3",
   "language": "python",
   "name": "python3"
  },
  "language_info": {
   "name": "python",
   "version": "3.10"
  }
 },
 "nbformat": 4,
 "nbformat_minor": 5
}
