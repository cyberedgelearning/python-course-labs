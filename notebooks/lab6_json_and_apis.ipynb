{
 "cells": [
  {
   "cell_type": "markdown",
   "metadata": {},
   "source": [
    "# Lab 6: JSON and APIs\n",
    "\n",
    "Welcome to Lab 6! In this lab, you'll learn how to work with JSON data and interact with public APIs using Python.\n",
    "\n",
    "### Objectives\n",
    "- Parse JSON data using `json` module\n",
    "- Make HTTP requests using `requests`\n",
    "- Extract and display structured data\n",
    "\n",
    "---\n",
    "© 2025 CyberEdge Learning. All content is protected by copyright. Redistribution or unauthorized use is prohibited."
   ]
  },
  {
   "cell_type": "code",
   "execution_count": null,
   "metadata": {},
   "outputs": [],
   "source": [
    "# Sample JSON string\n",
    "import json\n",
    "\n",
    "data = '{\"students\": [{\"name\": \"Alice\", \"score\": 88}, {\"name\": \"Bob\", \"score\": 72}]}'\n",
    "parsed = json.loads(data)\n",
    "parsed"
   ]
  },
  {
   "cell_type": "code",
   "execution_count": null,
   "metadata": {},
   "outputs": [],
   "source": [
    "# Extract names and scores\n",
    "for student in parsed['students']:\n",
    "    print(f\"{student['name']} scored {student['score']}\")"
   ]
  },
  {
   "cell_type": "code",
   "execution_count": null,
   "metadata": {},
   "outputs": [],
   "source": [
    "# Make an API call to a public endpoint\n",
    "import requests\n",
    "\n",
    "response = requests.get(\"https://api.agify.io/?name=charlie\")\n",
    "if response.status_code == 200:\n",
    "    data = response.json()\n",
    "    print(f\"Predicted age for {data['name']}: {data['age']}\")\n",
    "else:\n",
    "    print(\"API request failed.\")"
   ]
  },
  {
   "cell_type": "code",
   "execution_count": null,
   "metadata": {},
   "outputs": [],
   "source": [
    "# Challenge: Write a function to predict age for any name\n",
    "def predict_age(name):\n",
    "    url = f\"https://api.agify.io/?name={name}\"\n",
    "    r = requests.get(url)\n",
    "    if r.status_code == 200:\n",
    "        return r.json()['age']\n",
    "    else:\n",
    "        return None\n",
    "\n",
    "# Try it out\n",
    "predict_age(\"dana\")"
   ]
  }
 ],
 "metadata": {
  "kernelspec": {
   "display_name": "Python 3",
   "language": "python",
   "name": "python3"
  },
  "language_info": {
   "name": "python",
   "version": "3.10"
  }
 },
 "nbformat": 4,
 "nbformat_minor": 5
}
