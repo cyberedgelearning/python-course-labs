{
 "cells": [
  {
   "cell_type": "markdown",
   "metadata": {},
   "source": [
    "# 🧪 Lab 3: File Handling & Error Management\n",
    "In this lab, you'll learn how to read and write files in Python, and how to handle errors gracefully using `try`/`except`. These skills are essential for working with real-world data."
   ]
  },
  {
   "cell_type": "markdown",
   "metadata": {},
   "source": [
    "## 📁 Section 1: Writing to a File"
   ]
  },
  {
   "cell_type": "code",
   "metadata": {},
   "source": [
    "# Writing text to a file\n",
    "with open(\"greeting.txt\", \"w\") as file:\n",
    "    file.write(\"Hello, CyberEdge Learner!\")"
   ]
  },
  {
   "cell_type": "markdown",
   "metadata": {},
   "source": [
    "**🧩 Exercise:** Write a short bio about yourself to a file called `bio.txt`."
   ]
  },
  {
   "cell_type": "markdown",
   "metadata": {},
   "source": [
    "## 📖 Section 2: Reading from a File"
   ]
  },
  {
   "cell_type": "code",
   "metadata": {},
   "source": [
    "# Reading text from a file\n",
    "with open(\"greeting.txt\", \"r\") as file:\n",
    "    content = file.read()\n",
    "    print(content)"
   ]
  },
  {
   "cell_type": "markdown",
   "metadata": {},
   "source": [
    "**🧩 Exercise:** Read and print the contents of `bio.txt`."
   ]
  },
  {
   "cell_type": "markdown",
   "metadata": {},
   "source": [
    "## 🛠️ Section 3: Error Handling"
   ]
  },
  {
   "cell_type": "code",
   "metadata": {},
   "source": [
    "# Handling a missing file\n",
    "try:\n",
    "    with open(\"missing.txt\", \"r\") as file:\n",
    "        data = file.read()\n",
    "except FileNotFoundError:\n",
    "    print(\"File not found. Please check the filename.\")"
   ]
  },
  {
   "cell_type": "markdown",
   "metadata": {},
   "source": [
    "**🧩 Exercise:** Try reading a file that doesn’t exist and catch the error with a custom message."
   ]
  },
  {
   "cell_type": "markdown",
   "metadata": {},
   "source": [
    "## 🧮 Section 4: Combining File I/O and Logic"
   ]
  },
  {
   "cell_type": "code",
   "metadata": {},
   "source": [
    "# Read numbers from a file and calculate their average\n",
    "try:\n",
    "    with open(\"numbers.txt\", \"r\") as file:\n",
    "        lines = file.readlines()\n",
    "        numbers = [float(line.strip()) for line in lines]\n",
    "        avg = sum(numbers) / len(numbers)\n",
    "        print(f\"Average: {avg:.2f}\")\n",
    "except Exception as e:\n",
    "    print(f\"Something went wrong: {e}\")"
   ]
  },
  {
   "cell_type": "markdown",
   "metadata": {},
   "source": [
    "**🧩 Exercise:** Create a file `scores.txt` with 5 numbers. Write code to read the file and print the highest score."
   ]
  },
  {
   "cell_type": "markdown",
   "metadata": {},
   "source": [
    "## ✅ Final Step: Save & Submit\n",
    "Download your notebook using *File → Download as → Notebook (.ipynb)* and upload it to Moodle for grading."
   ]
  }
 ],
 "metadata": {
  "kernelspec": {
   "display_name": "Python 3",
   "language": "python",
   "name": "python3"
  },
  "language_info": {
   "name": "python",
   "version": "3.10"
  }
 },
 "nbformat": 4,
 "nbformat_minor": 5
}
