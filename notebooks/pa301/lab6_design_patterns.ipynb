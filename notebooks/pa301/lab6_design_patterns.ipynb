{
 "cells": [
  {
   "cell_type": "markdown",
   "metadata": {},
   "source": [
    "# Lab 6: Advanced Design Patterns\n",
    "\n",
    "In this lab, you'll implement common design patterns in Python.\n",
    "\n",
    "### Tasks\n",
    "1. Implement a **Singleton** class.\n",
    "2. Implement a **Factory** that creates different shapes.\n",
    "3. Implement an **Observer** pattern where objects get notified of state changes.\n",
    "\n",
    "### Challenge\n",
    "Use these patterns to simulate a mini game system (e.g., players, enemies, and events)."
   ]
  },
  {
   "cell_type": "code",
   "execution_count": null,
   "metadata": {},
   "outputs": [],
   "source": [
    "# Step 1: Singleton pattern\n",
    "class Singleton:\n",
    "    _instance = None\n",
    "    def __new__(cls):\n",
    "        if cls._instance is None:\n",
    "            cls._instance = super().__new__(cls)\n",
    "        return cls._instance\n",
    "\n",
    "s1 = Singleton()\n",
    "s2 = Singleton()\n",
    "print(\"Are they the same instance?\", s1 is s2)"
   ]
  },
  {
   "cell_type": "code",
   "execution_count": null,
   "metadata": {},
   "outputs": [],
   "source": [
    "# Step 2: Factory pattern\n",
    "class Circle:\n",
    "    def draw(self):\n",
    "        return \"Drawing a circle\"\n",
    "\n",
    "class Square:\n",
    "    def draw(self):\n",
    "        return \"Drawing a square\"\n",
    "\n",
    "class ShapeFactory:\n",
    "    def create_shape(self, shape_type):\n",
    "        if shape_type == \"circle\": return Circle()\n",
    "        if shape_type == \"square\": return Square()\n",
    "        return None\n",
    "\n",
    "factory = ShapeFactory()\n",
    "shape = factory.create_shape(\"circle\")\n",
    "print(shape.draw())"
   ]
  },
  {
   "cell_type": "code",
   "execution_count": null,
   "metadata": {},
   "outputs": [],
   "source": [
    "# Step 3: Observer pattern\n",
    "class Subject:\n",
    "    def __init__(self):\n",
    "        self._observers = []\n",
    "    def attach(self, observer):\n",
    "        self._observers.append(observer)\n",
    "    def notify(self, msg):\n",
    "        for observer in self._observers:\n",
    "            observer.update(msg)\n",
    "\n",
    "class Observer:\n",
    "    def update(self, msg):\n",
    "        print(\"Received update:\", msg)\n",
    "\n",
    "subject = Subject()\n",
    "observer1 = Observer()\n",
    "observer2 = Observer()\n",
    "subject.attach(observer1)\n",
    "subject.attach(observer2)\n",
    "\n",
    "subject.notify(\"Game started!\")"
   ]
  },
  {
   "cell_type": "code",
   "execution_count": null,
   "metadata": {},
   "outputs": [],
   "source": [
    "# Challenge: Mini game system using patterns\n",
    "class Player(Observer):\n",
    "    def __init__(self, name):\n",
    "        self.name = name\n",
    "    def update(self, msg):\n",
    "        print(f\"{self.name} received event: {msg}\")\n",
    "\n",
    "game = Subject()\n",
    "p1 = Player(\"Alice\")\n",
    "p2 = Player(\"Bob\")\n",
    "\n",
    "game.attach(p1)\n",
    "game.attach(p2)\n",
    "game.notify(\"Enemy has spawned!\")"
   ]
  }
 ],
 "metadata": {
  "kernelspec": {
   "display_name": "Python 3",
   "language": "python",
   "name": "python3"
  },
  "language_info": {
   "name": "python",
   "version": "3.11"
  }
 },
 "nbformat": 4,
 "nbformat_minor": 5
}
