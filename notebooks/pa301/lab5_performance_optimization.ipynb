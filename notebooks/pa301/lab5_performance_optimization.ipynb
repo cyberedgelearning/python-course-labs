{
 "cells": [
  {
   "cell_type": "markdown",
   "metadata": {},
   "source": [
    "# Lab 5: Performance & Optimization\n",
    "\n",
    "In this lab, you'll profile and optimize Python code.\n",
    "\n",
    "### Tasks\n",
    "1. Use `cProfile` to measure the runtime of a slow function.\n",
    "2. Compare searching in a list vs a set.\n",
    "3. Convert a memory-heavy function into a generator.\n",
    "\n",
    "### Challenge\n",
    "Benchmark two versions of a script (list vs set, generator vs list) and compare performance."
   ]
  },
  {
   "cell_type": "code",
   "execution_count": null,
   "metadata": {},
   "outputs": [],
   "source": [
    "# Step 1: Profile a slow function\n",
    "import cProfile\n",
    "\n",
    "def slow_function():\n",
    "    total = 0\n",
    "    for i in range(1000000):\n",
    "        total += i\n",
    "    return total\n",
    "\n",
    "cProfile.run(\"slow_function()\")"
   ]
  },
  {
   "cell_type": "code",
   "execution_count": null,
   "metadata": {},
   "outputs": [],
   "source": [
    "# Step 2: List vs Set lookup\n",
    "nums = list(range(1000000))\n",
    "nums_set = set(nums)\n",
    "\n",
    "import time\n",
    "target = 999999\n",
    "\n",
    "start = time.time()\n",
    "print(target in nums)\n",
    "print(\"List search time:\", time.time()-start)\n",
    "\n",
    "start = time.time()\n",
    "print(target in nums_set)\n",
    "print(\"Set search time:\", time.time()-start)"
   ]
  },
  {
   "cell_type": "code",
   "execution_count": null,
   "metadata": {},
   "outputs": [],
   "source": [
    "# Step 3: Generator vs List\n",
    "def squares_list(n):\n",
    "    return [i*i for i in range(n)]\n",
    "\n",
    "def squares_gen(n):\n",
    "    for i in range(n):\n",
    "        yield i*i\n",
    "\n",
    "print(\"List version (first 5):\", squares_list(5)[:5])\n",
    "print(\"Generator version (first 5):\", list(squares_gen(5))[:5])"
   ]
  },
  {
   "cell_type": "code",
   "execution_count": null,
   "metadata": {},
   "outputs": [],
   "source": [
    "# Challenge: Benchmark list vs generator\n",
    "import time\n",
    "\n",
    "N = 1000000\n",
    "\n",
    "start = time.time()\n",
    "_ = squares_list(N)\n",
    "print(\"List time:\", time.time()-start)\n",
    "\n",
    "start = time.time()\n",
    "_ = list(squares_gen(N))\n",
    "print(\"Generator time:\", time.time()-start)"
   ]
  }
 ],
 "metadata": {
  "kernelspec": {
   "display_name": "Python 3",
   "language": "python",
   "name": "python3"
  },
  "language_info": {
   "name": "python",
   "version": "3.11"
  }
 },
 "nbformat": 4,
 "nbformat_minor": 5
}
