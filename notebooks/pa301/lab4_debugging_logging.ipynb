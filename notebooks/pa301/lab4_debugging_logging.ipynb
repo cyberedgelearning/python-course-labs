{
 "cells": [
  {
   "cell_type": "markdown",
   "metadata": {},
   "source": [
    "# Lab 4: Debugging & Logging\n",
    "\n",
    "In this lab, you'll practice using logging and debugging tools in Python.\n",
    "\n",
    "### Tasks\n",
    "1. Configure logging to output messages at different levels.\n",
    "2. Log messages to both the console and a file.\n",
    "3. Use `pdb` to debug a buggy function.\n",
    "\n",
    "### Challenge\n",
    "Refactor a buggy script so that all errors are logged and handled gracefully."
   ]
  },
  {
   "cell_type": "code",
   "execution_count": null,
   "metadata": {},
   "outputs": [],
   "source": [
    "# Step 1: Basic logging\n",
    "import logging\n",
    "\n",
    "logging.basicConfig(level=logging.DEBUG,\n",
    "                    format='%(asctime)s - %(levelname)s - %(message)s')\n",
    "\n",
    "logging.debug(\"This is a debug message\")\n",
    "logging.info(\"Program started\")\n",
    "logging.warning(\"This might be a problem\")\n",
    "logging.error(\"An error occurred\")\n",
    "logging.critical(\"Critical failure!\")"
   ]
  },
  {
   "cell_type": "code",
   "execution_count": null,
   "metadata": {},
   "outputs": [],
   "source": [
    "# Step 2: Log to both console and file\n",
    "logger = logging.getLogger(\"demo\")\n",
    "logger.setLevel(logging.INFO)\n",
    "\n",
    "# Console handler\n",
    "console = logging.StreamHandler()\n",
    "console.setLevel(logging.INFO)\n",
    "\n",
    "# File handler\n",
    "file_handler = logging.FileHandler(\"app.log\")\n",
    "file_handler.setLevel(logging.INFO)\n",
    "\n",
    "formatter = logging.Formatter('%(asctime)s - %(levelname)s - %(message)s')\n",
    "console.setFormatter(formatter)\n",
    "file_handler.setFormatter(formatter)\n",
    "\n",
    "logger.addHandler(console)\n",
    "logger.addHandler(file_handler)\n",
    "\n",
    "logger.info(\"Logging to console and file!\")"
   ]
  },
  {
   "cell_type": "code",
   "execution_count": null,
   "metadata": {},
   "outputs": [],
   "source": [
    "# Step 3: Debugging with pdb\n",
    "def buggy_function(x):\n",
    "    total = 0\n",
    "    for i in range(5):\n",
    "        total += i * x\n",
    "    return total\n",
    "\n",
    "import pdb; pdb.set_trace()\n",
    "print(buggy_function(2))"
   ]
  },
  {
   "cell_type": "code",
   "execution_count": null,
   "metadata": {},
   "outputs": [],
   "source": [
    "# Challenge: Graceful error logging\n",
    "def divide(a, b):\n",
    "    try:\n",
    "        return a / b\n",
    "    except ZeroDivisionError as e:\n",
    "        logger.error(\"Tried to divide by zero: %s\", e)\n",
    "        return None\n",
    "\n",
    "print(divide(10, 2))\n",
    "print(divide(5, 0))"
   ]
  }
 ],
 "metadata": {
  "kernelspec": {
   "display_name": "Python 3",
   "language": "python",
   "name": "python3"
  },
  "language_info": {
   "name": "python",
   "version": "3.11"
  }
 },
 "nbformat": 4,
 "nbformat_minor": 5
}
