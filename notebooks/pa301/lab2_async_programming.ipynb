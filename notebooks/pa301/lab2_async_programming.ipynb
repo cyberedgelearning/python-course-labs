{
 "cells": [
  {
   "cell_type": "markdown",
   "metadata": {},
   "source": [
    "# Lab 2: Async Programming\n",
    "\n",
    "In this lab, you'll practice using **async/await** to handle multiple tasks concurrently.\n",
    "\n",
    "### Tasks\n",
    "1. Write an async function that simulates fetching data with `asyncio.sleep()`.\n",
    "2. Run multiple async tasks concurrently.\n",
    "3. Measure and compare runtime against sequential execution.\n",
    "\n",
    "### Challenge\n",
    "Fetch data concurrently from multiple APIs using `aiohttp` (optional)."
   ]
  },
  {
   "cell_type": "code",
   "execution_count": null,
   "metadata": {},
   "outputs": [],
   "source": [
    "import asyncio, time\n",
    "\n",
    "async def fetch_data(n):\n",
    "    print(f\"Fetching data {n}...\")\n",
    "    await asyncio.sleep(1)\n",
    "    print(f\"Done with data {n}\")\n",
    "    return n\n",
    "\n",
    "# Sequential execution\n",
    "start = time.time()\n",
    "for i in range(3):\n",
    "    asyncio.run(fetch_data(i))\n",
    "print(\"Sequential time:\", time.time()-start)"
   ]
  },
  {
   "cell_type": "code",
   "execution_count": null,
   "metadata": {},
   "outputs": [],
   "source": [
    "# Concurrent execution\n",
    "async def main():\n",
    "    tasks = [fetch_data(i) for i in range(3)]\n",
    "    await asyncio.gather(*tasks)\n",
    "\n",
    "start = time.time()\n",
    "asyncio.run(main())\n",
    "print(\"Concurrent time:\", time.time()-start)"
   ]
  },
  {
   "cell_type": "code",
   "execution_count": null,
   "metadata": {},
   "outputs": [],
   "source": [
    "# Challenge: aiohttp example (requires aiohttp)\n",
    "import aiohttp\n",
    "\n",
    "async def fetch_url(session, url):\n",
    "    async with session.get(url) as resp:\n",
    "        return await resp.json()\n",
    "\n",
    "async def fetch_all():\n",
    "    urls = [\"https://api.agify.io?name=alex\", \"https://api.agify.io?name=jordan\"]\n",
    "    async with aiohttp.ClientSession() as session:\n",
    "        tasks = [fetch_url(session, url) for url in urls]\n",
    "        results = await asyncio.gather(*tasks)\n",
    "        print(results)\n",
    "\n",
    "asyncio.run(fetch_all())"
   ]
  }
 ],
 "metadata": {
  "kernelspec": {
   "display_name": "Python 3",
   "language": "python",
   "name": "python3"
  },
  "language_info": {
   "name": "python",
   "version": "3.11"
  }
 },
 "nbformat": 4,
 "nbformat_minor": 5
}
