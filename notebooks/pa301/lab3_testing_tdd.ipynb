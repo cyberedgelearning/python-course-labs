{
 "cells": [
  {
   "cell_type": "markdown",
   "metadata": {},
   "source": [
    "# Lab 3: Testing & TDD\n",
    "\n",
    "In this lab, you'll practice writing unit tests and using the test-driven development (TDD) cycle.\n",
    "\n",
    "### Tasks\n",
    "1. Write a simple calculator with `add`, `subtract`, `multiply`, `divide`.\n",
    "2. Write tests for each function using `unittest`.\n",
    "3. Convert the same tests to use `pytest`.\n",
    "4. Add edge cases, like division by zero.\n",
    "\n",
    "### Challenge\n",
    "Use mocking to simulate an API call and test it without making a real request."
   ]
  },
  {
   "cell_type": "code",
   "execution_count": null,
   "metadata": {},
   "outputs": [],
   "source": [
    "# Step 1: Calculator functions\n",
    "def add(a, b): return a + b\n",
    "def subtract(a, b): return a - b\n",
    "def multiply(a, b): return a * b\n",
    "def divide(a, b):\n",
    "    if b == 0:\n",
    "        raise ValueError(\"Cannot divide by zero\")\n",
    "    return a / b"
   ]
  },
  {
   "cell_type": "code",
   "execution_count": null,
   "metadata": {},
   "outputs": [],
   "source": [
    "# Step 2: unittest example\n",
    "import unittest\n",
    "\n",
    "class TestCalculator(unittest.TestCase):\n",
    "    def test_add(self):\n",
    "        self.assertEqual(add(2, 3), 5)\n",
    "    def test_divide(self):\n",
    "        self.assertEqual(divide(10, 2), 5)\n",
    "        with self.assertRaises(ValueError):\n",
    "            divide(5, 0)\n",
    "\n",
    "# Uncomment the line below to run inside notebook\n",
    "# unittest.main(argv=[''], exit=False)"
   ]
  },
  {
   "cell_type": "code",
   "execution_count": null,
   "metadata": {},
   "outputs": [],
   "source": [
    "# Step 3: pytest version\n",
    "def test_add():\n",
    "    assert add(2, 3) == 5\n",
    "\n",
    "def test_divide():\n",
    "    assert divide(10, 2) == 5\n",
    "    import pytest\n",
    "    with pytest.raises(ValueError):\n",
    "        divide(5, 0)"
   ]
  },
  {
   "cell_type": "code",
   "execution_count": null,
   "metadata": {},
   "outputs": [],
   "source": [
    "# Challenge: Mocking API calls\n",
    "from unittest.mock import patch\n",
    "import requests\n",
    "\n",
    "def get_status():\n",
    "    response = requests.get(\"https://api.example.com\")\n",
    "    return response.json()[\"status\"]\n",
    "\n",
    "@patch(\"requests.get\")\n",
    "def test_get_status(mock_get):\n",
    "    mock_get.return_value.json.return_value = {\"status\": \"ok\"}\n",
    "    assert get_status() == \"ok\""
   ]
  }
 ],
 "metadata": {
  "kernelspec": {
   "display_name": "Python 3",
   "language": "python",
   "name": "python3"
  },
  "language_info": {
   "name": "python",
   "version": "3.11"
  }
 },
 "nbformat": 4,
 "nbformat_minor": 5
}
