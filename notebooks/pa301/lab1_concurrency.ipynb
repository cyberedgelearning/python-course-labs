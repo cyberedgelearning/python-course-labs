{
 "cells": [
  {
   "cell_type": "markdown",
   "metadata": {},
   "source": [
    "# Lab 1: Concurrency\n",
    "\n",
    "In this lab, you'll practice using **multithreading** and **multiprocessing** in Python.\n",
    "\n",
    "### Tasks\n",
    "1. Write a multithreaded function that simulates downloading multiple files.\n",
    "2. Write a multiprocessing function that computes squares of numbers in parallel.\n",
    "3. Compare performance between the two approaches.\n",
    "\n",
    "### Challenge\n",
    "Create a multithreaded downloader that prints when each file starts and finishes."
   ]
  },
  {
   "cell_type": "code",
   "execution_count": null,
   "metadata": {},
   "outputs": [],
   "source": [
    "import threading, time\n",
    "\n",
    "def download_file(file_id):\n",
    "    print(f\"Starting download {file_id}\")\n",
    "    time.sleep(1)\n",
    "    print(f\"Finished download {file_id}\")\n",
    "\n",
    "threads = []\n",
    "for i in range(3):\n",
    "    t = threading.Thread(target=download_file, args=(i,))\n",
    "    threads.append(t)\n",
    "    t.start()\n",
    "\n",
    "for t in threads:\n",
    "    t.join()"
   ]
  },
  {
   "cell_type": "code",
   "execution_count": null,
   "metadata": {},
   "outputs": [],
   "source": [
    "from multiprocessing import Process\n",
    "\n",
    "def compute_square(x):\n",
    "    print(f\"Square of {x} is {x*x}\")\n",
    "\n",
    "procs = []\n",
    "for n in [2, 3, 4]:\n",
    "    p = Process(target=compute_square, args=(n,))\n",
    "    procs.append(p)\n",
    "    p.start()\n",
    "\n",
    "for p in procs:\n",
    "    p.join()"
   ]
  }
 ],
 "metadata": {
  "kernelspec": {
   "display_name": "Python 3",
   "language": "python",
   "name": "python3"
  },
  "language_info": {
   "name": "python",
   "version": "3.11"
  }
 },
 "nbformat": 4,
 "nbformat_minor": 5
}
