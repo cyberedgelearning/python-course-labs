{
 "cells": [
  {
   "cell_type": "markdown",
   "metadata": {},
   "source": [
    "# 📰 Optional Project: Concurrent News Aggregator\n",
    "\n",
    "In this project, you'll build a concurrent news aggregator that fetches, filters, and organizes articles.\n",
    "\n",
    "### What You'll Practice\n",
    "- Concurrency with `asyncio` and `aiohttp`\n",
    "- Testing parsing/filtering logic\n",
    "- Logging errors and info\n",
    "- Optimization with sets and generators\n",
    "- Factory and Observer patterns\n",
    "\n",
    "### Challenge\n",
    "Add multiple sources and let users subscribe to keywords (Observer pattern)."
   ]
  },
  {
   "cell_type": "code",
   "execution_count": null,
   "metadata": {},
   "outputs": [],
   "source": [
    "import asyncio, aiohttp, logging\n",
    "\n",
    "logging.basicConfig(filename=\"news_errors.log\", level=logging.ERROR)\n",
    "\n",
    "class NewsAggregator:\n",
    "    def __init__(self):\n",
    "        self.articles = []\n",
    "\n",
    "    async def fetch(self, session, url):\n",
    "        try:\n",
    "            async with session.get(url) as resp:\n",
    "                return await resp.json()\n",
    "        except Exception as e:\n",
    "            logging.error(\"Error fetching %s: %s\", url, e)\n",
    "            return None\n",
    "\n",
    "    async def fetch_articles(self, urls):\n",
    "        async with aiohttp.ClientSession() as session:\n",
    "            tasks = [self.fetch(session, url) for url in urls]\n",
    "            results = await asyncio.gather(*tasks)\n",
    "            for r in results:\n",
    "                if r:\n",
    "                    self.articles.extend(r.get(\"articles\", []))\n",
    "\n",
    "    def filter_articles(self, keyword):\n",
    "        seen = set()\n",
    "        filtered = []\n",
    "        for a in self.articles:\n",
    "            title = a.get(\"title\", \"\")\n",
    "            if keyword.lower() in title.lower() and title not in seen:\n",
    "                seen.add(title)\n",
    "                filtered.append(title)\n",
    "        return filtered\n",
    "\n",
    "    def save_report(self, keyword, articles):\n",
    "        with open(f\"{keyword}_report.txt\", \"w\") as f:\n",
    "            for a in articles:\n",
    "                f.write(a + \"\\n\")\n",
    "        print(f\"Report saved to {keyword}_report.txt\")"
   ]
  },
  {
   "cell_type": "code",
   "execution_count": null,
   "metadata": {},
   "outputs": [],
   "source": [
    "# Example run (using placeholder API)\n",
    "urls = [\n",
    "    \"https://newsapi.org/v2/top-headlines?country=us&apiKey=demo\", # replace with real key\n",
    "]\n",
    "\n",
    "async def run():\n",
    "    app = NewsAggregator()\n",
    "    await app.fetch_articles(urls)\n",
    "    results = app.filter_articles(\"python\")\n",
    "    print(\"Articles found:\", results)\n",
    "    app.save_report(\"python\", results)\n",
    "\n",
    "# asyncio.run(run())  # Uncomment to execute with a real API"
   ]
  }
 ],
 "metadata": {
  "kernelspec": {
   "display_name": "Python 3",
   "language": "python",
   "name": "python3"
  },
  "language_info": {
   "name": "python",
   "version": "3.11"
  }
 },
 "nbformat": 4,
 "nbformat_minor": 5
}
